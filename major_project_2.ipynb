{
  "nbformat": 4,
  "nbformat_minor": 0,
  "metadata": {
    "colab": {
      "provenance": [],
      "collapsed_sections": []
    },
    "kernelspec": {
      "name": "python3",
      "display_name": "Python 3"
    },
    "language_info": {
      "name": "python"
    }
  },
  "cells": [
    {
      "cell_type": "markdown",
      "source": [
        "MAJOR PROJECT    II\n",
        "\n",
        "K Means Clustering\n"
      ],
      "metadata": {
        "id": "2rGCQZ-blJ_b"
      }
    },
    {
      "cell_type": "markdown",
      "source": [
        "We are using \"Seeds\" dataset.\n",
        "\n",
        "1.Create Dataframe"
      ],
      "metadata": {
        "id": "rbdvs_fZlh1r"
      }
    },
    {
      "cell_type": "code",
      "execution_count": null,
      "metadata": {
        "colab": {
          "base_uri": "https://localhost:8080/",
          "height": 423
        },
        "id": "JyRLbeg_4dpa",
        "outputId": "fc430d9f-8bd9-46cc-9cc8-05557309cc50"
      },
      "outputs": [
        {
          "output_type": "execute_result",
          "data": {
            "text/plain": [
              "      ID   area  perimeter  compactness  lengthOfKernel  widthOfKernel  \\\n",
              "0      1  15.26      14.84       0.8710           5.763          3.312   \n",
              "1      2  14.88      14.57       0.8811           5.554          3.333   \n",
              "2      3  14.29      14.09       0.9050           5.291          3.337   \n",
              "3      4  13.84      13.94       0.8955           5.324          3.379   \n",
              "4      5  16.14      14.99       0.9034           5.658          3.562   \n",
              "..   ...    ...        ...          ...             ...            ...   \n",
              "205  206  12.19      13.20       0.8783           5.137          2.981   \n",
              "206  207  11.23      12.88       0.8511           5.140          2.795   \n",
              "207  208  13.20      13.66       0.8883           5.236          3.232   \n",
              "208  209  11.84      13.21       0.8521           5.175          2.836   \n",
              "209  210  12.30      13.34       0.8684           5.243          2.974   \n",
              "\n",
              "     asymmetryCoefficient  lengthOfKernelGroove  seedType  \n",
              "0                   2.221                 5.220         1  \n",
              "1                   1.018                 4.956         1  \n",
              "2                   2.699                 4.825         1  \n",
              "3                   2.259                 4.805         1  \n",
              "4                   1.355                 5.175         1  \n",
              "..                    ...                   ...       ...  \n",
              "205                 3.631                 4.870         3  \n",
              "206                 4.325                 5.003         3  \n",
              "207                 8.315                 5.056         3  \n",
              "208                 3.598                 5.044         3  \n",
              "209                 5.637                 5.063         3  \n",
              "\n",
              "[210 rows x 9 columns]"
            ],
            "text/html": [
              "\n",
              "  <div id=\"df-807ca83b-3319-41bc-8103-97aaa13dc830\">\n",
              "    <div class=\"colab-df-container\">\n",
              "      <div>\n",
              "<style scoped>\n",
              "    .dataframe tbody tr th:only-of-type {\n",
              "        vertical-align: middle;\n",
              "    }\n",
              "\n",
              "    .dataframe tbody tr th {\n",
              "        vertical-align: top;\n",
              "    }\n",
              "\n",
              "    .dataframe thead th {\n",
              "        text-align: right;\n",
              "    }\n",
              "</style>\n",
              "<table border=\"1\" class=\"dataframe\">\n",
              "  <thead>\n",
              "    <tr style=\"text-align: right;\">\n",
              "      <th></th>\n",
              "      <th>ID</th>\n",
              "      <th>area</th>\n",
              "      <th>perimeter</th>\n",
              "      <th>compactness</th>\n",
              "      <th>lengthOfKernel</th>\n",
              "      <th>widthOfKernel</th>\n",
              "      <th>asymmetryCoefficient</th>\n",
              "      <th>lengthOfKernelGroove</th>\n",
              "      <th>seedType</th>\n",
              "    </tr>\n",
              "  </thead>\n",
              "  <tbody>\n",
              "    <tr>\n",
              "      <th>0</th>\n",
              "      <td>1</td>\n",
              "      <td>15.26</td>\n",
              "      <td>14.84</td>\n",
              "      <td>0.8710</td>\n",
              "      <td>5.763</td>\n",
              "      <td>3.312</td>\n",
              "      <td>2.221</td>\n",
              "      <td>5.220</td>\n",
              "      <td>1</td>\n",
              "    </tr>\n",
              "    <tr>\n",
              "      <th>1</th>\n",
              "      <td>2</td>\n",
              "      <td>14.88</td>\n",
              "      <td>14.57</td>\n",
              "      <td>0.8811</td>\n",
              "      <td>5.554</td>\n",
              "      <td>3.333</td>\n",
              "      <td>1.018</td>\n",
              "      <td>4.956</td>\n",
              "      <td>1</td>\n",
              "    </tr>\n",
              "    <tr>\n",
              "      <th>2</th>\n",
              "      <td>3</td>\n",
              "      <td>14.29</td>\n",
              "      <td>14.09</td>\n",
              "      <td>0.9050</td>\n",
              "      <td>5.291</td>\n",
              "      <td>3.337</td>\n",
              "      <td>2.699</td>\n",
              "      <td>4.825</td>\n",
              "      <td>1</td>\n",
              "    </tr>\n",
              "    <tr>\n",
              "      <th>3</th>\n",
              "      <td>4</td>\n",
              "      <td>13.84</td>\n",
              "      <td>13.94</td>\n",
              "      <td>0.8955</td>\n",
              "      <td>5.324</td>\n",
              "      <td>3.379</td>\n",
              "      <td>2.259</td>\n",
              "      <td>4.805</td>\n",
              "      <td>1</td>\n",
              "    </tr>\n",
              "    <tr>\n",
              "      <th>4</th>\n",
              "      <td>5</td>\n",
              "      <td>16.14</td>\n",
              "      <td>14.99</td>\n",
              "      <td>0.9034</td>\n",
              "      <td>5.658</td>\n",
              "      <td>3.562</td>\n",
              "      <td>1.355</td>\n",
              "      <td>5.175</td>\n",
              "      <td>1</td>\n",
              "    </tr>\n",
              "    <tr>\n",
              "      <th>...</th>\n",
              "      <td>...</td>\n",
              "      <td>...</td>\n",
              "      <td>...</td>\n",
              "      <td>...</td>\n",
              "      <td>...</td>\n",
              "      <td>...</td>\n",
              "      <td>...</td>\n",
              "      <td>...</td>\n",
              "      <td>...</td>\n",
              "    </tr>\n",
              "    <tr>\n",
              "      <th>205</th>\n",
              "      <td>206</td>\n",
              "      <td>12.19</td>\n",
              "      <td>13.20</td>\n",
              "      <td>0.8783</td>\n",
              "      <td>5.137</td>\n",
              "      <td>2.981</td>\n",
              "      <td>3.631</td>\n",
              "      <td>4.870</td>\n",
              "      <td>3</td>\n",
              "    </tr>\n",
              "    <tr>\n",
              "      <th>206</th>\n",
              "      <td>207</td>\n",
              "      <td>11.23</td>\n",
              "      <td>12.88</td>\n",
              "      <td>0.8511</td>\n",
              "      <td>5.140</td>\n",
              "      <td>2.795</td>\n",
              "      <td>4.325</td>\n",
              "      <td>5.003</td>\n",
              "      <td>3</td>\n",
              "    </tr>\n",
              "    <tr>\n",
              "      <th>207</th>\n",
              "      <td>208</td>\n",
              "      <td>13.20</td>\n",
              "      <td>13.66</td>\n",
              "      <td>0.8883</td>\n",
              "      <td>5.236</td>\n",
              "      <td>3.232</td>\n",
              "      <td>8.315</td>\n",
              "      <td>5.056</td>\n",
              "      <td>3</td>\n",
              "    </tr>\n",
              "    <tr>\n",
              "      <th>208</th>\n",
              "      <td>209</td>\n",
              "      <td>11.84</td>\n",
              "      <td>13.21</td>\n",
              "      <td>0.8521</td>\n",
              "      <td>5.175</td>\n",
              "      <td>2.836</td>\n",
              "      <td>3.598</td>\n",
              "      <td>5.044</td>\n",
              "      <td>3</td>\n",
              "    </tr>\n",
              "    <tr>\n",
              "      <th>209</th>\n",
              "      <td>210</td>\n",
              "      <td>12.30</td>\n",
              "      <td>13.34</td>\n",
              "      <td>0.8684</td>\n",
              "      <td>5.243</td>\n",
              "      <td>2.974</td>\n",
              "      <td>5.637</td>\n",
              "      <td>5.063</td>\n",
              "      <td>3</td>\n",
              "    </tr>\n",
              "  </tbody>\n",
              "</table>\n",
              "<p>210 rows × 9 columns</p>\n",
              "</div>\n",
              "      <button class=\"colab-df-convert\" onclick=\"convertToInteractive('df-807ca83b-3319-41bc-8103-97aaa13dc830')\"\n",
              "              title=\"Convert this dataframe to an interactive table.\"\n",
              "              style=\"display:none;\">\n",
              "        \n",
              "  <svg xmlns=\"http://www.w3.org/2000/svg\" height=\"24px\"viewBox=\"0 0 24 24\"\n",
              "       width=\"24px\">\n",
              "    <path d=\"M0 0h24v24H0V0z\" fill=\"none\"/>\n",
              "    <path d=\"M18.56 5.44l.94 2.06.94-2.06 2.06-.94-2.06-.94-.94-2.06-.94 2.06-2.06.94zm-11 1L8.5 8.5l.94-2.06 2.06-.94-2.06-.94L8.5 2.5l-.94 2.06-2.06.94zm10 10l.94 2.06.94-2.06 2.06-.94-2.06-.94-.94-2.06-.94 2.06-2.06.94z\"/><path d=\"M17.41 7.96l-1.37-1.37c-.4-.4-.92-.59-1.43-.59-.52 0-1.04.2-1.43.59L10.3 9.45l-7.72 7.72c-.78.78-.78 2.05 0 2.83L4 21.41c.39.39.9.59 1.41.59.51 0 1.02-.2 1.41-.59l7.78-7.78 2.81-2.81c.8-.78.8-2.07 0-2.86zM5.41 20L4 18.59l7.72-7.72 1.47 1.35L5.41 20z\"/>\n",
              "  </svg>\n",
              "      </button>\n",
              "      \n",
              "  <style>\n",
              "    .colab-df-container {\n",
              "      display:flex;\n",
              "      flex-wrap:wrap;\n",
              "      gap: 12px;\n",
              "    }\n",
              "\n",
              "    .colab-df-convert {\n",
              "      background-color: #E8F0FE;\n",
              "      border: none;\n",
              "      border-radius: 50%;\n",
              "      cursor: pointer;\n",
              "      display: none;\n",
              "      fill: #1967D2;\n",
              "      height: 32px;\n",
              "      padding: 0 0 0 0;\n",
              "      width: 32px;\n",
              "    }\n",
              "\n",
              "    .colab-df-convert:hover {\n",
              "      background-color: #E2EBFA;\n",
              "      box-shadow: 0px 1px 2px rgba(60, 64, 67, 0.3), 0px 1px 3px 1px rgba(60, 64, 67, 0.15);\n",
              "      fill: #174EA6;\n",
              "    }\n",
              "\n",
              "    [theme=dark] .colab-df-convert {\n",
              "      background-color: #3B4455;\n",
              "      fill: #D2E3FC;\n",
              "    }\n",
              "\n",
              "    [theme=dark] .colab-df-convert:hover {\n",
              "      background-color: #434B5C;\n",
              "      box-shadow: 0px 1px 3px 1px rgba(0, 0, 0, 0.15);\n",
              "      filter: drop-shadow(0px 1px 2px rgba(0, 0, 0, 0.3));\n",
              "      fill: #FFFFFF;\n",
              "    }\n",
              "  </style>\n",
              "\n",
              "      <script>\n",
              "        const buttonEl =\n",
              "          document.querySelector('#df-807ca83b-3319-41bc-8103-97aaa13dc830 button.colab-df-convert');\n",
              "        buttonEl.style.display =\n",
              "          google.colab.kernel.accessAllowed ? 'block' : 'none';\n",
              "\n",
              "        async function convertToInteractive(key) {\n",
              "          const element = document.querySelector('#df-807ca83b-3319-41bc-8103-97aaa13dc830');\n",
              "          const dataTable =\n",
              "            await google.colab.kernel.invokeFunction('convertToInteractive',\n",
              "                                                     [key], {});\n",
              "          if (!dataTable) return;\n",
              "\n",
              "          const docLinkHtml = 'Like what you see? Visit the ' +\n",
              "            '<a target=\"_blank\" href=https://colab.research.google.com/notebooks/data_table.ipynb>data table notebook</a>'\n",
              "            + ' to learn more about interactive tables.';\n",
              "          element.innerHTML = '';\n",
              "          dataTable['output_type'] = 'display_data';\n",
              "          await google.colab.output.renderOutput(dataTable, element);\n",
              "          const docLink = document.createElement('div');\n",
              "          docLink.innerHTML = docLinkHtml;\n",
              "          element.appendChild(docLink);\n",
              "        }\n",
              "      </script>\n",
              "    </div>\n",
              "  </div>\n",
              "  "
            ]
          },
          "metadata": {},
          "execution_count": 1
        }
      ],
      "source": [
        "import pandas as pd\n",
        "df=pd.read_csv('/content/seeds_dataset.csv')\n",
        "df"
      ]
    },
    {
      "cell_type": "markdown",
      "source": [
        "2.Use df.info to see information about the dataframe , such as no of columns, entries, non-null count and so on."
      ],
      "metadata": {
        "id": "k0r8lzUomEkY"
      }
    },
    {
      "cell_type": "code",
      "source": [
        "df.info()"
      ],
      "metadata": {
        "colab": {
          "base_uri": "https://localhost:8080/"
        },
        "id": "fNRtr1tY5g1q",
        "outputId": "27143050-5dec-498f-b51a-5cb2b7c8995d"
      },
      "execution_count": null,
      "outputs": [
        {
          "output_type": "stream",
          "name": "stdout",
          "text": [
            "<class 'pandas.core.frame.DataFrame'>\n",
            "RangeIndex: 210 entries, 0 to 209\n",
            "Data columns (total 9 columns):\n",
            " #   Column                Non-Null Count  Dtype  \n",
            "---  ------                --------------  -----  \n",
            " 0   ID                    210 non-null    int64  \n",
            " 1   area                  210 non-null    float64\n",
            " 2   perimeter             210 non-null    float64\n",
            " 3   compactness           210 non-null    float64\n",
            " 4   lengthOfKernel        210 non-null    float64\n",
            " 5   widthOfKernel         210 non-null    float64\n",
            " 6   asymmetryCoefficient  210 non-null    float64\n",
            " 7   lengthOfKernelGroove  210 non-null    float64\n",
            " 8   seedType              210 non-null    int64  \n",
            "dtypes: float64(7), int64(2)\n",
            "memory usage: 14.9 KB\n"
          ]
        }
      ]
    },
    {
      "cell_type": "markdown",
      "source": [
        "3.Since we are using only 2 attributes (area and asymmetryCoefficient) , we use sclicing to remove other unnecessary columns."
      ],
      "metadata": {
        "id": "k2TAFs-gmZ_1"
      }
    },
    {
      "cell_type": "code",
      "source": [
        "x= df.iloc[:,[1,6]].values\n",
        "x"
      ],
      "metadata": {
        "colab": {
          "base_uri": "https://localhost:8080/"
        },
        "id": "Fa3QMdYO5nDa",
        "outputId": "f5f2b1d3-6098-4894-d1e6-9145cb2a8ef9"
      },
      "execution_count": null,
      "outputs": [
        {
          "output_type": "execute_result",
          "data": {
            "text/plain": [
              "array([[15.26  ,  2.221 ],\n",
              "       [14.88  ,  1.018 ],\n",
              "       [14.29  ,  2.699 ],\n",
              "       [13.84  ,  2.259 ],\n",
              "       [16.14  ,  1.355 ],\n",
              "       [14.38  ,  2.462 ],\n",
              "       [14.69  ,  3.586 ],\n",
              "       [14.11  ,  2.7   ],\n",
              "       [16.63  ,  2.04  ],\n",
              "       [16.44  ,  1.969 ],\n",
              "       [15.26  ,  4.543 ],\n",
              "       [14.03  ,  1.717 ],\n",
              "       [13.89  ,  3.986 ],\n",
              "       [13.78  ,  3.136 ],\n",
              "       [13.74  ,  2.932 ],\n",
              "       [14.59  ,  4.185 ],\n",
              "       [13.99  ,  5.234 ],\n",
              "       [15.69  ,  1.599 ],\n",
              "       [14.7   ,  1.767 ],\n",
              "       [12.72  ,  4.102 ],\n",
              "       [14.16  ,  3.072 ],\n",
              "       [14.11  ,  2.688 ],\n",
              "       [15.88  ,  0.7651],\n",
              "       [12.08  ,  1.415 ],\n",
              "       [15.01  ,  1.791 ],\n",
              "       [16.19  ,  0.903 ],\n",
              "       [13.02  ,  3.373 ],\n",
              "       [12.74  ,  2.504 ],\n",
              "       [14.11  ,  2.754 ],\n",
              "       [13.45  ,  3.531 ],\n",
              "       [13.16  ,  0.8551],\n",
              "       [15.49  ,  3.412 ],\n",
              "       [14.09  ,  3.92  ],\n",
              "       [13.94  ,  2.124 ],\n",
              "       [15.05  ,  2.129 ],\n",
              "       [16.12  ,  2.27  ],\n",
              "       [16.2   ,  2.823 ],\n",
              "       [17.08  ,  2.956 ],\n",
              "       [14.8   ,  3.112 ],\n",
              "       [14.28  ,  6.685 ],\n",
              "       [13.54  ,  2.587 ],\n",
              "       [13.5   ,  2.249 ],\n",
              "       [13.16  ,  2.461 ],\n",
              "       [15.5   ,  4.711 ],\n",
              "       [15.11  ,  3.128 ],\n",
              "       [13.8   ,  1.56  ],\n",
              "       [15.36  ,  1.367 ],\n",
              "       [14.99  ,  2.958 ],\n",
              "       [14.79  ,  2.704 ],\n",
              "       [14.86  ,  2.129 ],\n",
              "       [14.43  ,  3.975 ],\n",
              "       [15.78  ,  5.593 ],\n",
              "       [14.49  ,  4.116 ],\n",
              "       [14.33  ,  3.328 ],\n",
              "       [14.52  ,  1.481 ],\n",
              "       [15.03  ,  1.933 ],\n",
              "       [14.46  ,  2.802 ],\n",
              "       [14.92  ,  1.142 ],\n",
              "       [15.38  ,  1.999 ],\n",
              "       [12.11  ,  1.502 ],\n",
              "       [11.42  ,  2.7   ],\n",
              "       [11.23  ,  2.269 ],\n",
              "       [12.36  ,  3.22  ],\n",
              "       [13.22  ,  4.157 ],\n",
              "       [12.78  ,  1.176 ],\n",
              "       [12.88  ,  2.352 ],\n",
              "       [14.34  ,  1.313 ],\n",
              "       [14.01  ,  2.217 ],\n",
              "       [14.37  ,  1.464 ],\n",
              "       [12.73  ,  3.533 ],\n",
              "       [17.63  ,  4.076 ],\n",
              "       [16.84  ,  4.675 ],\n",
              "       [17.26  ,  4.539 ],\n",
              "       [19.11  ,  2.936 ],\n",
              "       [16.82  ,  4.004 ],\n",
              "       [16.77  ,  4.92  ],\n",
              "       [17.32  ,  3.824 ],\n",
              "       [20.71  ,  4.451 ],\n",
              "       [18.94  ,  5.064 ],\n",
              "       [17.12  ,  2.858 ],\n",
              "       [16.53  ,  5.532 ],\n",
              "       [18.72  ,  5.324 ],\n",
              "       [20.2   ,  5.173 ],\n",
              "       [19.57  ,  1.472 ],\n",
              "       [19.51  ,  2.962 ],\n",
              "       [18.27  ,  2.443 ],\n",
              "       [18.88  ,  1.649 ],\n",
              "       [18.98  ,  3.691 ],\n",
              "       [21.18  ,  5.78  ],\n",
              "       [20.88  ,  5.016 ],\n",
              "       [20.1   ,  1.955 ],\n",
              "       [18.76  ,  3.12  ],\n",
              "       [18.81  ,  3.237 ],\n",
              "       [18.59  ,  6.001 ],\n",
              "       [18.36  ,  4.933 ],\n",
              "       [16.87  ,  3.696 ],\n",
              "       [19.31  ,  3.477 ],\n",
              "       [18.98  ,  2.144 ],\n",
              "       [18.17  ,  2.853 ],\n",
              "       [18.72  ,  2.188 ],\n",
              "       [16.41  ,  4.217 ],\n",
              "       [17.99  ,  2.068 ],\n",
              "       [19.46  ,  4.308 ],\n",
              "       [19.18  ,  3.357 ],\n",
              "       [18.95  ,  3.368 ],\n",
              "       [18.83  ,  2.553 ],\n",
              "       [18.85  ,  2.843 ],\n",
              "       [17.63  ,  3.747 ],\n",
              "       [19.94  ,  3.252 ],\n",
              "       [18.55  ,  1.738 ],\n",
              "       [18.45  ,  2.235 ],\n",
              "       [19.38  ,  3.678 ],\n",
              "       [19.13  ,  2.109 ],\n",
              "       [19.14  ,  6.682 ],\n",
              "       [20.97  ,  4.677 ],\n",
              "       [19.06  ,  2.248 ],\n",
              "       [18.96  ,  4.334 ],\n",
              "       [19.15  ,  3.084 ],\n",
              "       [18.89  ,  3.639 ],\n",
              "       [20.03  ,  3.063 ],\n",
              "       [20.24  ,  5.901 ],\n",
              "       [18.14  ,  3.619 ],\n",
              "       [16.17  ,  4.286 ],\n",
              "       [18.43  ,  2.984 ],\n",
              "       [15.99  ,  3.336 ],\n",
              "       [18.75  ,  4.188 ],\n",
              "       [18.65  ,  4.391 ],\n",
              "       [17.98  ,  2.257 ],\n",
              "       [20.16  ,  1.91  ],\n",
              "       [17.55  ,  5.366 ],\n",
              "       [18.3   ,  2.837 ],\n",
              "       [18.94  ,  2.908 ],\n",
              "       [15.38  ,  4.462 ],\n",
              "       [16.16  ,  4.266 ],\n",
              "       [15.56  ,  4.972 ],\n",
              "       [15.38  ,  3.6   ],\n",
              "       [17.36  ,  3.526 ],\n",
              "       [15.57  ,  2.64  ],\n",
              "       [15.6   ,  2.725 ],\n",
              "       [16.23  ,  3.769 ],\n",
              "       [13.07  ,  5.304 ],\n",
              "       [13.32  ,  7.035 ],\n",
              "       [13.34  ,  5.995 ],\n",
              "       [12.22  ,  5.469 ],\n",
              "       [11.82  ,  4.471 ],\n",
              "       [11.21  ,  6.169 ],\n",
              "       [11.43  ,  2.221 ],\n",
              "       [12.49  ,  4.421 ],\n",
              "       [12.7   ,  3.26  ],\n",
              "       [10.79  ,  5.462 ],\n",
              "       [11.83  ,  5.195 ],\n",
              "       [12.01  ,  6.992 ],\n",
              "       [12.26  ,  4.756 ],\n",
              "       [11.18  ,  3.332 ],\n",
              "       [11.36  ,  4.048 ],\n",
              "       [11.19  ,  5.813 ],\n",
              "       [11.34  ,  3.347 ],\n",
              "       [12.13  ,  4.825 ],\n",
              "       [11.75  ,  4.378 ],\n",
              "       [11.49  ,  5.388 ],\n",
              "       [12.54  ,  3.082 ],\n",
              "       [12.02  ,  4.271 ],\n",
              "       [12.05  ,  4.988 ],\n",
              "       [12.55  ,  4.419 ],\n",
              "       [11.14  ,  6.388 ],\n",
              "       [12.1   ,  2.201 ],\n",
              "       [12.44  ,  4.924 ],\n",
              "       [12.15  ,  3.638 ],\n",
              "       [11.35  ,  4.337 ],\n",
              "       [11.24  ,  3.521 ],\n",
              "       [11.02  ,  6.735 ],\n",
              "       [11.55  ,  6.715 ],\n",
              "       [11.27  ,  4.309 ],\n",
              "       [11.4   ,  5.588 ],\n",
              "       [10.83  ,  5.182 ],\n",
              "       [10.8   ,  4.773 ],\n",
              "       [11.26  ,  5.335 ],\n",
              "       [10.74  ,  4.702 ],\n",
              "       [11.48  ,  5.876 ],\n",
              "       [12.21  ,  1.661 ],\n",
              "       [11.41  ,  4.957 ],\n",
              "       [12.46  ,  4.987 ],\n",
              "       [12.19  ,  4.857 ],\n",
              "       [11.65  ,  5.209 ],\n",
              "       [12.89  ,  6.185 ],\n",
              "       [11.56  ,  4.062 ],\n",
              "       [11.81  ,  4.898 ],\n",
              "       [10.91  ,  4.179 ],\n",
              "       [11.23  ,  7.524 ],\n",
              "       [10.59  ,  4.975 ],\n",
              "       [10.93  ,  5.398 ],\n",
              "       [11.27  ,  3.985 ],\n",
              "       [11.87  ,  3.597 ],\n",
              "       [10.82  ,  4.853 ],\n",
              "       [12.11  ,  4.132 ],\n",
              "       [12.8   ,  4.873 ],\n",
              "       [12.79  ,  5.483 ],\n",
              "       [13.37  ,  4.67  ],\n",
              "       [12.62  ,  3.306 ],\n",
              "       [12.76  ,  2.828 ],\n",
              "       [12.38  ,  5.472 ],\n",
              "       [12.67  ,  2.3   ],\n",
              "       [11.18  ,  4.051 ],\n",
              "       [12.7   ,  8.456 ],\n",
              "       [12.37  ,  3.919 ],\n",
              "       [12.19  ,  3.631 ],\n",
              "       [11.23  ,  4.325 ],\n",
              "       [13.2   ,  8.315 ],\n",
              "       [11.84  ,  3.598 ],\n",
              "       [12.3   ,  5.637 ]])"
            ]
          },
          "metadata": {},
          "execution_count": 3
        }
      ]
    },
    {
      "cell_type": "markdown",
      "source": [
        "4.Import matplotlib package.\n",
        "Plot a Scatter Plot for 'area' and 'asymmetryCoefficient'."
      ],
      "metadata": {
        "id": "W_rQ3AkWm35G"
      }
    },
    {
      "cell_type": "code",
      "source": [
        "import matplotlib.pyplot as plt\n",
        "plt.scatter(df['area'],df['asymmetryCoefficient'])"
      ],
      "metadata": {
        "colab": {
          "base_uri": "https://localhost:8080/",
          "height": 283
        },
        "id": "XNyf8B_a41yF",
        "outputId": "11519c91-65e5-4629-b6fd-40bad5b56362"
      },
      "execution_count": null,
      "outputs": [
        {
          "output_type": "execute_result",
          "data": {
            "text/plain": [
              "<matplotlib.collections.PathCollection at 0x7f272dde4490>"
            ]
          },
          "metadata": {},
          "execution_count": 4
        },
        {
          "output_type": "display_data",
          "data": {
            "text/plain": [
              "<Figure size 432x288 with 1 Axes>"
            ],
            "image/png": "[encoded data removed]"
          },
          "metadata": {
            "needs_background": "light"
          }
        }
      ]
    },
    {
      "cell_type": "markdown",
      "source": [
        "5.Import Numpy package.\n",
        "\n",
        "Here, we find the number of clusters by using square root.\n",
        "The number of clusters always ranges from 2 to the square root of the total number of elements.\n",
        "The total number of elements is 210(here)."
      ],
      "metadata": {
        "id": "8P8l4s2DnS8H"
      }
    },
    {
      "cell_type": "code",
      "source": [
        "import numpy as np\n",
        "np.sqrt(210)\n",
        "#no of clusters is k"
      ],
      "metadata": {
        "colab": {
          "base_uri": "https://localhost:8080/"
        },
        "id": "4FtaY0gI5E1B",
        "outputId": "759a5b8b-10a5-48af-8646-d46ccf205365"
      },
      "execution_count": null,
      "outputs": [
        {
          "output_type": "execute_result",
          "data": {
            "text/plain": [
              "14.491376746189438"
            ]
          },
          "metadata": {},
          "execution_count": 5
        }
      ]
    },
    {
      "cell_type": "markdown",
      "source": [
        "6.We need to find out the number of clusters k\n",
        "\n",
        "We can use two mwthods:\n",
        "\n",
        "1.ELBOW METHOD  \n",
        "2.SILHOUETTE SCORE METHOD"
      ],
      "metadata": {
        "id": "vPr8HF0bn2qh"
      }
    },
    {
      "cell_type": "markdown",
      "source": [
        "Let us start with Elbow Method"
      ],
      "metadata": {
        "id": "YBfqljbPoj4x"
      }
    },
    {
      "cell_type": "code",
      "source": [
        "#1.ELBOW METHOD\n",
        "from sklearn.cluster import KMeans\n",
        "k = range(2,15)\n",
        "\n",
        "sse = []#sum of sq errors value\n",
        "\n",
        "for i in k :\n",
        "  model_demo = KMeans(n_clusters = i,random_state=0)\n",
        "  model_demo.fit(x)\n",
        "  sse.append(model_demo.inertia_)  # sum of squared erroe\n",
        "plt.scatter(k,sse)\n",
        "plt.plot(k,sse)\n"
      ],
      "metadata": {
        "colab": {
          "base_uri": "https://localhost:8080/",
          "height": 283
        },
        "id": "nxmVskgp60qy",
        "outputId": "77401827-b117-4983-f0ec-7c2e8b2bd893"
      },
      "execution_count": null,
      "outputs": [
        {
          "output_type": "execute_result",
          "data": {
            "text/plain": [
              "[<matplotlib.lines.Line2D at 0x7f272039e850>]"
            ]
          },
          "metadata": {},
          "execution_count": 6
        },
        {
          "output_type": "display_data",
          "data": {
            "text/plain": [
              "<Figure size 432x288 with 1 Axes>"
            ],
            "image/png": "[encoded data removed]"
          },
          "metadata": {
            "needs_background": "light"
          }
        }
      ]
    },
    {
      "cell_type": "code",
      "source": [
        "#We shall consider the ELBOW POINT - point at which the elbow is more prominent\n",
        "#we shall consider k as 2 for now , but we are not sure"
      ],
      "metadata": {
        "id": "prv_nsFJ7-t5"
      },
      "execution_count": null,
      "outputs": []
    },
    {
      "cell_type": "markdown",
      "source": [
        "Now, let us check using Silhouette Score Method"
      ],
      "metadata": {
        "id": "Ev8E-PqjodMQ"
      }
    },
    {
      "cell_type": "code",
      "source": [
        "#2.SILHOUTTE SCORE METHOD\n",
        "from sklearn.metrics import silhouette_score\n",
        "k=range(2,15)\n",
        "for i in k:\n",
        "  model_demo = KMeans(n_clusters= i,random_state=0)\n",
        "  model_demo.fit(x)\n",
        "  y_pred = model_demo.predict(x)\n",
        "  print(f\"{i} Clusters, Score = {silhouette_score(x,y_pred)}\")\n",
        "  plt.bar(i,silhouette_score(x,y_pred))"
      ],
      "metadata": {
        "colab": {
          "base_uri": "https://localhost:8080/",
          "height": 505
        },
        "id": "EadppJ4O8tLZ",
        "outputId": "994ee23b-c166-45e6-81cb-faa1bd79d30c"
      },
      "execution_count": null,
      "outputs": [
        {
          "output_type": "stream",
          "name": "stdout",
          "text": [
            "2 Clusters, Score = 0.505684206229276\n",
            "3 Clusters, Score = 0.47131096514544457\n",
            "4 Clusters, Score = 0.402285143663565\n",
            "5 Clusters, Score = 0.37546557934247654\n",
            "6 Clusters, Score = 0.38605993850067777\n",
            "7 Clusters, Score = 0.3867049052759109\n",
            "8 Clusters, Score = 0.38827145491552717\n",
            "9 Clusters, Score = 0.3847367831601289\n",
            "10 Clusters, Score = 0.3639074899267467\n",
            "11 Clusters, Score = 0.366254212514478\n",
            "12 Clusters, Score = 0.3479832195065669\n",
            "13 Clusters, Score = 0.3694196607784604\n",
            "14 Clusters, Score = 0.3491157138320221\n"
          ]
        },
        {
          "output_type": "display_data",
          "data": {
            "text/plain": [
              "<Figure size 432x288 with 1 Axes>"
            ],
            "image/png": "[encoded data removed]"
          },
          "metadata": {
            "needs_background": "light"
          }
        }
      ]
    },
    {
      "cell_type": "code",
      "source": [
        "#The Highest Score is for Cluster no.2 (the blue bar)\n",
        "#confirmation : The number of clusters to be considered is 2"
      ],
      "metadata": {
        "id": "MGoAc9mc9tcI"
      },
      "execution_count": null,
      "outputs": []
    },
    {
      "cell_type": "markdown",
      "source": [
        "7.Once we are sure about the number of clusters (k value), we can go ahead and apply the KMeans Clusterer , using number of clusters=k"
      ],
      "metadata": {
        "id": "P0VBV8GwpCkX"
      }
    },
    {
      "cell_type": "code",
      "source": [
        "#Apply clusterer\n",
        "k=2\n",
        "from sklearn.cluster import KMeans\n",
        "\n",
        "model= KMeans(n_clusters=2, random_state=0)\n",
        "model.fit(x)"
      ],
      "metadata": {
        "colab": {
          "base_uri": "https://localhost:8080/"
        },
        "id": "TP_gUm-p-oYx",
        "outputId": "708027c6-7603-4f59-99ce-f4155916bb15"
      },
      "execution_count": null,
      "outputs": [
        {
          "output_type": "execute_result",
          "data": {
            "text/plain": [
              "KMeans(n_clusters=2, random_state=0)"
            ]
          },
          "metadata": {},
          "execution_count": 10
        }
      ]
    },
    {
      "cell_type": "markdown",
      "source": [
        "Predicting the clusters for x (i.e, area and asymmetryCoefficient )"
      ],
      "metadata": {
        "id": "n8dGgmxAp57o"
      }
    },
    {
      "cell_type": "code",
      "source": [
        "y= model.predict(x)\n",
        "y"
      ],
      "metadata": {
        "colab": {
          "base_uri": "https://localhost:8080/"
        },
        "id": "Hnz_28N-_MIu",
        "outputId": "9225d8b2-40c9-48db-9849-fd28dbd613d5"
      },
      "execution_count": null,
      "outputs": [
        {
          "output_type": "execute_result",
          "data": {
            "text/plain": [
              "array([0, 0, 0, 0, 1, 0, 0, 0, 1, 1, 0, 0, 0, 0, 0, 0, 0, 1, 0, 0, 0, 0,\n",
              "       1, 0, 0, 1, 0, 0, 0, 0, 0, 1, 0, 0, 0, 1, 1, 1, 0, 0, 0, 0, 0, 0,\n",
              "       0, 0, 1, 0, 0, 0, 0, 1, 0, 0, 0, 0, 0, 0, 1, 0, 0, 0, 0, 0, 0, 0,\n",
              "       0, 0, 0, 0, 1, 1, 1, 1, 1, 1, 1, 1, 1, 1, 1, 1, 1, 1, 1, 1, 1, 1,\n",
              "       1, 1, 1, 1, 1, 1, 1, 1, 1, 1, 1, 1, 1, 1, 1, 1, 1, 1, 1, 1, 1, 1,\n",
              "       1, 1, 1, 1, 1, 1, 1, 1, 1, 1, 1, 1, 1, 1, 1, 1, 1, 1, 1, 1, 1, 1,\n",
              "       0, 1, 0, 0, 1, 1, 1, 1, 0, 0, 0, 0, 0, 0, 0, 0, 0, 0, 0, 0, 0, 0,\n",
              "       0, 0, 0, 0, 0, 0, 0, 0, 0, 0, 0, 0, 0, 0, 0, 0, 0, 0, 0, 0, 0, 0,\n",
              "       0, 0, 0, 0, 0, 0, 0, 0, 0, 0, 0, 0, 0, 0, 0, 0, 0, 0, 0, 0, 0, 0,\n",
              "       0, 0, 0, 0, 0, 0, 0, 0, 0, 0, 0, 0], dtype=int32)"
            ]
          },
          "metadata": {},
          "execution_count": 11
        }
      ]
    },
    {
      "cell_type": "markdown",
      "source": [
        "As we can see, we have 2 clusters: cluster0 and cluster1"
      ],
      "metadata": {
        "id": "J--4c10UqKRs"
      }
    },
    {
      "cell_type": "code",
      "source": [
        "y.size   #that means all 210 data elements are allocated to either cluster 0 or cluster 1"
      ],
      "metadata": {
        "colab": {
          "base_uri": "https://localhost:8080/"
        },
        "id": "ZMqTyQN2_QVu",
        "outputId": "1374626f-143f-4c00-b0e3-dcbc18767a46"
      },
      "execution_count": null,
      "outputs": [
        {
          "output_type": "execute_result",
          "data": {
            "text/plain": [
              "210"
            ]
          },
          "metadata": {},
          "execution_count": 12
        }
      ]
    },
    {
      "cell_type": "markdown",
      "source": [
        "Let us find out the value of the inputs when say , cluster 0 is selected and column index 0 is selected. "
      ],
      "metadata": {
        "id": "GWHBc7uesUnN"
      }
    },
    {
      "cell_type": "code",
      "source": [
        "x[y== 0,0]  # we have to consider cluster number 0 and column number 0 in x"
      ],
      "metadata": {
        "colab": {
          "base_uri": "https://localhost:8080/"
        },
        "id": "2NVoodOA_eYP",
        "outputId": "47778770-bdef-47e3-e206-02261f5f1580"
      },
      "execution_count": null,
      "outputs": [
        {
          "output_type": "execute_result",
          "data": {
            "text/plain": [
              "array([15.26, 14.88, 14.29, 13.84, 14.38, 14.69, 14.11, 15.26, 14.03,\n",
              "       13.89, 13.78, 13.74, 14.59, 13.99, 14.7 , 12.72, 14.16, 14.11,\n",
              "       12.08, 15.01, 13.02, 12.74, 14.11, 13.45, 13.16, 14.09, 13.94,\n",
              "       15.05, 14.8 , 14.28, 13.54, 13.5 , 13.16, 15.5 , 15.11, 13.8 ,\n",
              "       14.99, 14.79, 14.86, 14.43, 14.49, 14.33, 14.52, 15.03, 14.46,\n",
              "       14.92, 12.11, 11.42, 11.23, 12.36, 13.22, 12.78, 12.88, 14.34,\n",
              "       14.01, 14.37, 12.73, 15.38, 15.56, 15.38, 13.07, 13.32, 13.34,\n",
              "       12.22, 11.82, 11.21, 11.43, 12.49, 12.7 , 10.79, 11.83, 12.01,\n",
              "       12.26, 11.18, 11.36, 11.19, 11.34, 12.13, 11.75, 11.49, 12.54,\n",
              "       12.02, 12.05, 12.55, 11.14, 12.1 , 12.44, 12.15, 11.35, 11.24,\n",
              "       11.02, 11.55, 11.27, 11.4 , 10.83, 10.8 , 11.26, 10.74, 11.48,\n",
              "       12.21, 11.41, 12.46, 12.19, 11.65, 12.89, 11.56, 11.81, 10.91,\n",
              "       11.23, 10.59, 10.93, 11.27, 11.87, 10.82, 12.11, 12.8 , 12.79,\n",
              "       13.37, 12.62, 12.76, 12.38, 12.67, 11.18, 12.7 , 12.37, 12.19,\n",
              "       11.23, 13.2 , 11.84, 12.3 ])"
            ]
          },
          "metadata": {},
          "execution_count": 13
        }
      ]
    },
    {
      "cell_type": "markdown",
      "source": [
        "Now, to find number of pairs(since we consider 2 cols) in each cluster:"
      ],
      "metadata": {
        "id": "V38s1cNus7xf"
      }
    },
    {
      "cell_type": "code",
      "source": [
        "np.unique(y,return_counts = True)                   # cluster0 has 130 pairs and cluster1 has 80 pairs"
      ],
      "metadata": {
        "colab": {
          "base_uri": "https://localhost:8080/"
        },
        "id": "pY3IS5VP_jlR",
        "outputId": "96b95d92-811a-4e20-e71f-5f627539c8e9"
      },
      "execution_count": null,
      "outputs": [
        {
          "output_type": "execute_result",
          "data": {
            "text/plain": [
              "(array([0, 1], dtype=int32), array([130,  80]))"
            ]
          },
          "metadata": {},
          "execution_count": 14
        }
      ]
    },
    {
      "cell_type": "markdown",
      "source": [
        "8.Finally , we can perform the visualiztion using scatter plot to show exactly which points belong to which cluster and the loaction of the centeroid within each cluster."
      ],
      "metadata": {
        "id": "bXoSbulnqrNu"
      }
    },
    {
      "cell_type": "code",
      "source": [
        "#Final Visualization\n",
        "plt.figure(figsize=(10,5))\n",
        "for i in range(k) :\n",
        "  plt.scatter(x[y==i,0],x[y==i,1], label= f'Cluster{i}')\n",
        "plt.scatter(model.cluster_centers_[:,0], model.cluster_centers_[:1],s=300,c='yellow',label='Centroids')\n",
        "plt.legend()"
      ],
      "metadata": {
        "colab": {
          "base_uri": "https://localhost:8080/",
          "height": 338
        },
        "id": "BLzt8ar0Amq7",
        "outputId": "8d0e43ba-2eea-4e70-c5e5-ab38cdb7913c"
      },
      "execution_count": null,
      "outputs": [
        {
          "output_type": "execute_result",
          "data": {
            "text/plain": [
              "<matplotlib.legend.Legend at 0x7f271da2b710>"
            ]
          },
          "metadata": {},
          "execution_count": 15
        },
        {
          "output_type": "display_data",
          "data": {
            "text/plain": [
              "<Figure size 720x360 with 1 Axes>"
            ],
            "image/png": "[encoded data removed]"
          },
          "metadata": {
            "needs_background": "light"
          }
        }
      ]
    },
    {
      "cell_type": "code",
      "source": [],
      "metadata": {
        "id": "E1HzKSmyBMHc"
      },
      "execution_count": null,
      "outputs": []
    }
  ]
}